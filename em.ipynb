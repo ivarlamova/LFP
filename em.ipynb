{
 "cells": [
  {
   "cell_type": "code",
   "execution_count": 31,
   "metadata": {},
   "outputs": [
    {
     "data": {
      "text/plain": [
       "({},\n",
       " {'static': <siman.set_functions.InputSet at 0x7f6a0876d6d8>,\n",
       "  'opt': <siman.set_functions.InputSet at 0x7f6a085a2be0>,\n",
       "  None: <siman.set_functions.InputSet at 0x7f6a085a2c18>,\n",
       "  '1': <siman.set_functions.InputSet at 0x7f6a085a3dd8>,\n",
       "  '1nb2': <siman.set_functions.InputSet at 0x7f6a085a3eb8>},\n",
       " 56)"
      ]
     },
     "execution_count": 31,
     "metadata": {},
     "output_type": "execute_result"
    }
   ],
   "source": [
    "import sys\n",
    "import numpy as np\n",
    "from siman import header\n",
    "from siman.header      import db # database dictionary\n",
    "from siman.calc_manage import smart_structure_read, add, res\n",
    "from siman.geo         import supercell\n",
    "from siman.database    import read_database, write_database\n",
    "from siman.SSHTools    import SSHTools\n",
    "from siman.set_functions import read_vasp_sets\n",
    "from siman.bands import plot_bands\n",
    "\n",
    "read_database() # read saved results"
   ]
  },
  {
   "cell_type": "code",
   "execution_count": 32,
   "metadata": {},
   "outputs": [],
   "source": [
    "header.PATH2POTENTIALS = 'vasp/' # path to POTCAR files\n",
    "header.ssh_object = SSHTools()\n",
    "header.ssh_object.setup(user=\"ivarlamova\",host=\"10.30.16.62\",pkey=\"/home/ivarlamova/.ssh/id_rsa\")"
   ]
  },
  {
   "cell_type": "code",
   "execution_count": 34,
   "metadata": {},
   "outputs": [
    {
     "name": "stdout",
     "output_type": "stream",
     "text": [
      "-- POSCAR was written to /home/ivarlamova/Rec10_DS/xyz/POSCAR_ \n",
      "\n"
     ]
    },
    {
     "data": {
      "text/plain": [
       "'/home/ivarlamova/Rec10_DS/xyz/POSCAR_'"
      ]
     },
     "execution_count": 34,
     "metadata": {},
     "output_type": "execute_result"
    }
   ],
   "source": [
    "st = smart_structure_read(input_geo_file = 'H2/POSCAR') # read poscar\n",
    "#sc = supercell(st, [10.45, 12.18, 9.5]) # create 1x2x2 supercell, sizes 10.45 12.18 9.5 A \n",
    "st.write_poscar()"
   ]
  },
  {
   "cell_type": "code",
   "execution_count": 35,
   "metadata": {},
   "outputs": [
    {
     "name": "stdout",
     "output_type": "stream",
     "text": [
      "\n",
      "Attention! You have chosen to override set 1\n",
      " \n",
      "\n",
      "-- s.vasp_params['NELM']          = 100  \n",
      "-- s.vasp_params['IBRION']        = 1  \n",
      "-- s.vasp_params['KGAMMA']        = .TRUE.  \n",
      "-- s.vasp_params['ENCUT']         = 400  \n",
      "-- s.vasp_params['EDIFFG']        = -0.025  \n",
      "-- s.vasp_params['SIGMA']         = 0.1  \n",
      "-- s.vasp_params['NELMIN']        = 4  \n",
      "-- s.vasp_params['ISTART']        = 0  \n",
      "-- s.vasp_params['LSCALU']        = .FALSE.  \n",
      "-- s.vasp_params['MAXMIX']        = 40  \n",
      "-- s.vasp_params['NSIM']          = 4  \n",
      "-- s.vasp_params['ISIF']          = 2  \n",
      "-- s.vasp_params['EDIFF']         = 6e-06  \n",
      "-- s.vasp_params['ENAUG']         = 700.0  \n",
      "-- s.vasp_params['NSW']           = 25  \n",
      "-- s.vasp_params['LPLANE']        = .TRUE.  \n",
      "-- s.vasp_params['LREAL']         = Auto  \n",
      "-- s.vasp_params['ISMEAR']        = 0  \n",
      "-- s.vasp_params['NPAR']          = 1  \n",
      "-- s.vasp_params['ALGO']          = Normal  \n",
      "-- s.vasp_params['PREC']          = Normal  \n",
      "-- s.vasp_params['KSPACING']      = 0.3  \n",
      "-- s.vasp_params['ISPIN']         = 2  \n",
      "-- ngkpt: None \n",
      "\n",
      "-- POTDIR: {300: 'void', 200: 'octa', 0: 'n', 1: 'H', 2: 'He', 3: 'Li', 4: 'Be', 5: 'B', 6: 'C', 7: 'N', 8: 'O', 9: 'F', 10: 'Ne', 11: 'Na', 12: 'Mg', 13: 'Al', 14: 'Si', 15: 'P', 16: 'S', 17: 'Cl', 18: 'Ar', 19: 'K', 20: 'Ca', 21: 'Sc', 22: 'Ti', 23: 'V', 24: 'Cr', 25: 'Mn', 26: 'Fe', 27: 'Co', 28: 'Ni', 29: 'Cu', 30: 'Zn', 31: 'Ga', 32: 'Ge', 33: 'As', 34: 'Se', 35: 'Br', 36: 'Kr', 37: 'Rb', 38: 'Sr', 39: 'Y', 40: 'Zr', 41: 'Nb', 42: 'Mo', 43: 'Tc', 44: 'Ru', 45: 'Rh', 46: 'Pd', 47: 'Ag', 48: 'Cd', 49: 'In', 50: 'Sn', 51: 'Sb', 52: 'Te', 53: 'I', 54: 'Xe', 55: 'Cs', 56: 'Ba', 57: 'La', 58: 'Ce', 59: 'Pr', 60: 'Nd', 61: 'Pm', 62: 'Sm', 63: 'Eu', 64: 'Gd', 65: 'Tb', 66: 'Dy', 67: 'Ho', 68: 'Er', 69: 'Tm', 70: 'Yb', 71: 'Lu', 72: 'Hf', 73: 'Ta', 74: 'W', 75: 'Re', 76: 'Os', 77: 'Ir', 78: 'Pt', 79: 'Au', 80: 'Hg', 81: 'Tl', 82: 'Pb', 83: 'Bi', 84: 'Po', 85: 'At', 86: 'Rn', 87: 'Fr', 88: 'Ra', 89: 'Ac', 90: 'Th', 91: 'Pa', 92: 'U', 93: 'Np', 94: 'Pu', 95: 'Am', 96: 'Cm', 97: 'Bk', 98: 'Cf', 99: 'Es', 100: 'Fm', 101: 'Md', 102: 'No', 103: 'Lr', 104: 'Rf', 105: 'Db', 106: 'Sg', 107: 'Bh', 108: 'Hs', 109: 'Mt', 110: 'Ds', 111: 'Rg', 112: 'Cn', 114: 'Uuq', 116: 'Uuh'} \n"
     ]
    },
    {
     "data": {
      "text/plain": [
       "{'static': <siman.set_functions.InputSet at 0x7f6a0876d6d8>,\n",
       " 'opt': <siman.set_functions.InputSet at 0x7f6a085a2be0>,\n",
       " None: <siman.set_functions.InputSet at 0x7f6a09eedeb8>,\n",
       " '1': <siman.set_functions.InputSet at 0x7f6a085a3048>,\n",
       " '1nb2': <siman.set_functions.InputSet at 0x7f6a085a3eb8>}"
      ]
     },
     "execution_count": 35,
     "metadata": {},
     "output_type": "execute_result"
    }
   ],
   "source": [
    "read_vasp_sets([('1', 'static',{'EDIFFG':-0.025, 'KSPACING':0.3, 'NSW':25, 'ISMEAR':0, 'SIGMA':0.1, 'ENCUT':400, 'ENAUG':400*1.75, 'ISPIN':2}, 'over')])\n",
    "header.varset['1'].printme()\n",
    "read_vasp_sets([('1nb2', '1',{'add_nbands':2})])"
   ]
  },
  {
   "cell_type": "code",
   "execution_count": 40,
   "metadata": {},
   "outputs": [
    {
     "name": "stdout",
     "output_type": "stream",
     "text": [
      "-- Attention!, cluster None is not found, using default CEE \n",
      "\n",
      "-- check_kpoints(): Kpoint   mesh is:  [3, 3, 3] \n",
      "\n",
      "-- check_kpoints(): The actual k-spacings are  [0.21 0.21 0.21] \n",
      "\n",
      "-- POSCAR was written to /home/ivarlamova/Rec10_DS/recitationH2///H2.1/1.POSCAR \n",
      "\n",
      "-- Attention! ngkpt =  [3, 3, 3]  is adopted from struct_des which you provided for it  H2  and kspacing =  0.3 \n",
      "\n",
      "\n",
      "Calculation ('H2', '1', 1) successfully created\n",
      "\n",
      " \n",
      "\n"
     ]
    }
   ],
   "source": [
    "if 1:\n",
    "    it_folder = 'recitationH2/'\n",
    "    add('H2',    '1', 1, up = 'up2', input_st = st,     it_folder = it_folder, run = 0)"
   ]
  },
  {
   "cell_type": "code",
   "execution_count": 46,
   "metadata": {},
   "outputs": [
    {
     "name": "stdout",
     "output_type": "stream",
     "text": [
      "-- read_results(): ('H2', '1', 1) is unfinished, continue: recitationH2///H2.1/ username@10.30.16.62 \n",
      "\n",
      "-- res_loop(): Calculation  ('H2', '1', 1) is unfinished; return \\{\\} [] recitationH2///H2.1/ \n",
      "\n"
     ]
    },
    {
     "data": {
      "text/plain": [
       "({}, [])"
      ]
     },
     "execution_count": 46,
     "metadata": {},
     "output_type": "execute_result"
    }
   ],
   "source": [
    "header.check_job = 0\n",
    "res('H2',    '1', 1, up = 'up1', show = 'fo')"
   ]
  },
  {
   "cell_type": "code",
   "execution_count": null,
   "metadata": {},
   "outputs": [],
   "source": []
  }
 ],
 "metadata": {
  "kernelspec": {
   "display_name": "Python 3",
   "language": "python",
   "name": "python3"
  },
  "language_info": {
   "codemirror_mode": {
    "name": "ipython",
    "version": 3
   },
   "file_extension": ".py",
   "mimetype": "text/x-python",
   "name": "python",
   "nbconvert_exporter": "python",
   "pygments_lexer": "ipython3",
   "version": "3.6.5"
  }
 },
 "nbformat": 4,
 "nbformat_minor": 2
}
