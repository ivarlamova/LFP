{
 "cells": [
  {
   "cell_type": "code",
   "execution_count": 52,
   "metadata": {},
   "outputs": [
    {
     "data": {
      "text/plain": [
       "({},\n",
       " {'static': <siman.set_functions.InputSet at 0x7f35d9446f28>,\n",
       "  'opt': <siman.set_functions.InputSet at 0x7f35d83eb898>,\n",
       "  None: <siman.set_functions.InputSet at 0x7f35d83ebef0>,\n",
       "  '1': <siman.set_functions.InputSet at 0x7f35d337d9e8>,\n",
       "  '1nb2': <siman.set_functions.InputSet at 0x7f35d337d978>},\n",
       " 56)"
      ]
     },
     "execution_count": 52,
     "metadata": {},
     "output_type": "execute_result"
    }
   ],
   "source": [
    "import sys\n",
    "import numpy as np\n",
    "from siman import header\n",
    "from siman.header      import db # database dictionary\n",
    "from siman.calc_manage import smart_structure_read, add, res\n",
    "from siman.geo         import supercell\n",
    "from siman.database    import read_database, write_database\n",
    "from siman.SSHTools    import SSHTools\n",
    "from siman.set_functions import read_vasp_sets\n",
    "from siman.bands import plot_bands\n",
    "from siman.neb import add_neb\n",
    "\n",
    "read_database() # read saved results"
   ]
  },
  {
   "cell_type": "code",
   "execution_count": 53,
   "metadata": {},
   "outputs": [],
   "source": [
    "header.PATH2NEBMAKE = '/home/ivarlamova/vtstscripts-937/nebmake.pl'\n",
    "header.PATH2PROJECT    = 'neb' # path to project relative to your home folder on cluster\n",
    "header.PATH2POTENTIALS = 'vasp/' # path to POTCAR files\n",
    "header.ssh_object = SSHTools()\n",
    "header.ssh_object.setup(user=\"ivarlamova\",host=\"10.30.16.62\",pkey=\"/home/ivarlamova/.ssh/id_rsa\")"
   ]
  },
  {
   "cell_type": "code",
   "execution_count": 55,
   "metadata": {},
   "outputs": [
    {
     "name": "stdout",
     "output_type": "stream",
     "text": [
      "-- Calculating mul_matrix for ortho: [10.45, 12.18, 9.5] \n",
      "\n",
      "mul_matrix_float:\n",
      " [[1.01122512 0.         0.        ]\n",
      " [0.         2.02645372 0.        ]\n",
      " [0.         0.         2.00760783]] \n",
      "mul_matrix:\n",
      " [[1 0 0]\n",
      " [0 2 0]\n",
      " [0 0 2]] \n",
      "Old vectors (rprimd):\n",
      " [[10.3  0.   0. ]\n",
      " [ 0.   6.   0. ]\n",
      " [ 0.   0.   4.7]] \n",
      "New vectors (rprimd) of supercell:\n",
      " [[10.3  0.   0. ]\n",
      " [ 0.  12.   0. ]\n",
      " [ 0.   0.   9.5]] \n",
      "The supercell should contain 112.0 atoms ... \n",
      "  -- OK \n",
      "\n",
      "-- POSCAR was written to /home/ivarlamova/Rec10_DS/xyz/POSCAR__LPF_supercell \n",
      "\n"
     ]
    },
    {
     "data": {
      "text/plain": [
       "'/home/ivarlamova/Rec10_DS/xyz/POSCAR__LPF_supercell'"
      ]
     },
     "execution_count": 55,
     "metadata": {},
     "output_type": "execute_result"
    }
   ],
   "source": [
    "st = smart_structure_read(input_geo_file = 'LiFePO4/POSCAR_LPF') # read poscar\n",
    "sc = supercell(st, [10.45, 12.18, 9.5]) # create 1x2x2 supercell, sizes 10.45 12.18 9.5 A \n",
    "sc.write_poscar()"
   ]
  },
  {
   "cell_type": "code",
   "execution_count": 7,
   "metadata": {},
   "outputs": [
    {
     "name": "stdout",
     "output_type": "stream",
     "text": [
      "-- Directory LFP_tet_oct  was created \n",
      "\n",
      "-- POSCAR was written to /home/ivarlamova/Rec10_DS/LFP_tet_oct/POSCAR \n",
      "\n"
     ]
    },
    {
     "data": {
      "text/plain": [
       "'/home/ivarlamova/Rec10_DS/LFP_tet_oct/POSCAR'"
      ]
     },
     "execution_count": 7,
     "metadata": {},
     "output_type": "execute_result"
    }
   ],
   "source": [
    "sc_tet = sc.add_atom([0.89 / 1, 0.25 / 2, 0.855 / 2], 'H')  # create interstitial defect in octahedral position\n",
    "sc_tet_oct = sc_tet.add_atom([1.00 / 1, 0.00 / 2, 0.50 / 2], 'H')  # create interstitial defect in tetrahedral position\n",
    "\n",
    "sc_tet_oct.write_poscar('LFP_tet_oct/POSCAR')  "
   ]
  },
  {
   "cell_type": "code",
   "execution_count": 56,
   "metadata": {},
   "outputs": [
    {
     "name": "stdout",
     "output_type": "stream",
     "text": [
      "\n",
      "Attention! You have chosen to override set ion_relax\n",
      " \n",
      "\n",
      "Warning! You did not change  ISIF  in ion_relax set\n",
      " \n",
      "\n",
      "Warning! You did not change  IBRION  in ion_relax set\n",
      " \n",
      "\n",
      "-- s.vasp_params['NELM']          = 100  \n",
      "-- s.vasp_params['IBRION']        = 1  \n",
      "-- s.vasp_params['KGAMMA']        = .TRUE.  \n",
      "-- s.vasp_params['ENCUT']         = 441.0  \n",
      "-- s.vasp_params['EDIFFG']        = -0.025  \n",
      "-- s.vasp_params['SIGMA']         = 0.2  \n",
      "-- s.vasp_params['NELMIN']        = 4  \n",
      "-- s.vasp_params['ISTART']        = 0  \n",
      "-- s.vasp_params['LSCALU']        = .FALSE.  \n",
      "-- s.vasp_params['MAXMIX']        = 40  \n",
      "-- s.vasp_params['NSIM']          = 4  \n",
      "-- s.vasp_params['ISIF']          = 2  \n",
      "-- s.vasp_params['EDIFF']         = 6e-06  \n",
      "-- s.vasp_params['ENAUG']         = 776.16  \n",
      "-- s.vasp_params['NSW']           = 20  \n",
      "-- s.vasp_params['LPLANE']        = .TRUE.  \n",
      "-- s.vasp_params['LREAL']         = Auto  \n",
      "-- s.vasp_params['ISMEAR']        = 2  \n",
      "-- s.vasp_params['NPAR']          = 1  \n",
      "-- s.vasp_params['ALGO']          = Normal  \n",
      "-- s.vasp_params['PREC']          = Normal  \n",
      "-- s.vasp_params['KSPACING']      = 0.235  \n",
      "-- ngkpt: None \n",
      "\n",
      "-- POTDIR: {300: 'void', 200: 'octa', 0: 'n', 1: 'H', 2: 'He', 3: 'Li', 4: 'Be', 5: 'B', 6: 'C', 7: 'N', 8: 'O', 9: 'F', 10: 'Ne', 11: 'Na', 12: 'Mg', 13: 'Al', 14: 'Si', 15: 'P', 16: 'S', 17: 'Cl', 18: 'Ar', 19: 'K', 20: 'Ca', 21: 'Sc', 22: 'Ti', 23: 'V', 24: 'Cr', 25: 'Mn', 26: 'Fe', 27: 'Co', 28: 'Ni', 29: 'Cu', 30: 'Zn', 31: 'Ga', 32: 'Ge', 33: 'As', 34: 'Se', 35: 'Br', 36: 'Kr', 37: 'Rb', 38: 'Sr', 39: 'Y', 40: 'Zr', 41: 'Nb', 42: 'Mo', 43: 'Tc', 44: 'Ru', 45: 'Rh', 46: 'Pd', 47: 'Ag', 48: 'Cd', 49: 'In', 50: 'Sn', 51: 'Sb', 52: 'Te', 53: 'I', 54: 'Xe', 55: 'Cs', 56: 'Ba', 57: 'La', 58: 'Ce', 59: 'Pr', 60: 'Nd', 61: 'Pm', 62: 'Sm', 63: 'Eu', 64: 'Gd', 65: 'Tb', 66: 'Dy', 67: 'Ho', 68: 'Er', 69: 'Tm', 70: 'Yb', 71: 'Lu', 72: 'Hf', 73: 'Ta', 74: 'W', 75: 'Re', 76: 'Os', 77: 'Ir', 78: 'Pt', 79: 'Au', 80: 'Hg', 81: 'Tl', 82: 'Pb', 83: 'Bi', 84: 'Po', 85: 'At', 86: 'Rn', 87: 'Fr', 88: 'Ra', 89: 'Ac', 90: 'Th', 91: 'Pa', 92: 'U', 93: 'Np', 94: 'Pu', 95: 'Am', 96: 'Cm', 97: 'Bk', 98: 'Cf', 99: 'Es', 100: 'Fm', 101: 'Md', 102: 'No', 103: 'Lr', 104: 'Rf', 105: 'Db', 106: 'Sg', 107: 'Bh', 108: 'Hs', 109: 'Mt', 110: 'Ds', 111: 'Rg', 112: 'Cn', 114: 'Uuq', 116: 'Uuh'} \n"
     ]
    }
   ],
   "source": [
    "read_vasp_sets([('ion_relax', 'static', {'ISIF':2, 'IBRION':1, 'NSW':20, 'EDIFFG':-0.025}, 'override')]) #new set 'ion_relax' from 'static' with 'NSW' = 20\n",
    "header.varset['ion_relax'].printme()"
   ]
  },
  {
   "cell_type": "code",
   "execution_count": 57,
   "metadata": {},
   "outputs": [
    {
     "name": "stdout",
     "output_type": "stream",
     "text": [
      "-- add_neb(): determine_symmetry_positions ... \n",
      "\n",
      "-- I have found  2 non-equivalent positions for H : dict_keys([112, 113]) \n",
      "-- Atom numbers:  {112: [113], 113: [114]} \n",
      "\n",
      "-- Please choose position using *i_void_start* : [1, 2] \n",
      "\n",
      "-- Position 1 chosen, atom: 113 H \n",
      "\n",
      "-- You have chosen vacancy_creation mode of add_neb tool \n",
      "\n",
      "-- Type of atom to move =  H \n",
      "\n",
      "I can suggest you 12 end positions. The distances to them are :  [ 2.52  8.01  9.46  9.46  9.47 10.33 10.33 10.71 11.3  11.69 12.02 12.02]  A\n",
      "  They are  ['H'] atoms, use *i_void_final* to choose required: 1, 2, 3 .. \n",
      "\n",
      "-- Choosing position  2 with distance 8.01 A \n",
      "\n",
      "-- number of atom to delete =  113 \n",
      "\n",
      "-- Making vacancy at end position for starting configuration \n",
      "\n",
      "-- Creating geo files for starting and final configurations (versions 1 and 2)  \n",
      "\n",
      "replace_atoms(): atom 112 H replaced with H\n",
      "replace_atoms(): atom 112 H replaced with H\n",
      "-- Warning! File ./LiFePO4/neb/LiFePO4.n3H113v2/LiFePO4.n3H113v2.auto_created_starting_position_for_neb_vacancy_creation.1.geo was replaced \n",
      "\n",
      "-- Warning! File ./LiFePO4/neb/LiFePO4.n3H113v2/LiFePO4.n3H113v2.auto_created_final_position_for_neb_vacancy_creation.2.geo was replaced \n",
      "\n",
      "replace_atoms(): atom 112 H replaced with Pu\n",
      "replace_atoms(): atom 112 H replaced with Pu\n",
      "-- File xyz/LiFePO4.n3H113v2_start.xyz was written \n",
      "\n",
      "-- File xyz/LiFePO4.n3H113v2_end.xyz was written \n",
      "\n",
      "-- POSCAR was written to /home/ivarlamova/Rec10_DS/xyz/POSCAR1 \n",
      "\n",
      "-- POSCAR was written to /home/ivarlamova/Rec10_DS/xyz/POSCAR2 \n",
      "\n",
      "-- Attention!, cluster None is not found, using default CEE \n",
      "\n",
      "-- Attention, I update number of images in the set to 3 for this calculation;  \n",
      "\n",
      "-- Low + high =  [3.1e-05, 0.0004, 0.00023, 0.0004, 2.5e-05, 9.6e-05, 0.00046, 0.0011] \n",
      "\n",
      "-- [False, False, False, False, False, False, False, True] \n",
      "\n",
      "-- Attention!, SCF was not converged to desirable prec 0.039 > 0.006 meV \n",
      "\n",
      "-- name                          |  energy(eV)|    Vector lenghts (A)   | Stresses (MPa)     | N MD, N SCF    \n",
      "-- db['LiFePO4.n3H113v2.ion_relax.1']| -765.1807  |10.33;12.02;9.46|-11373,-10176,-7968 |  20,15,312    \n",
      "-- check_kpoints(): Kpoint   mesh is:  [3, 3, 3] \n",
      "\n",
      "-- check_kpoints(): The actual k-spacings are  [0.2  0.17 0.22] \n",
      "\n",
      "-- POSCAR was written to /home/ivarlamova/Rec10_DS/LiFePO4/neb//LiFePO4.n3H113v2.ion_relax/1.POSCAR \n",
      "\n",
      "\n",
      "Calculation ('LiFePO4.n3H113v2', 'ion_relax', 1) successfully created\n",
      "\n",
      " \n",
      "\n",
      "-- Low + high =  [3.1e-05, 0.0004, 0.00023, 0.0004, 2.5e-05, 9.6e-05, 0.00046, 0.0011] \n",
      "\n",
      "-- [False, False, False, False, False, False, False, True] \n",
      "\n",
      "-- name                          |  energy(eV)|    Vector lenghts (A)   | Stresses (MPa)     | N MD, N SCF    \n",
      "-- db['LiFePO4.n3H113v2.ion_relax.2']| -763.3672  |10.33;12.02;9.46|-12153,-11262,-8495 |  20,11,236    \n",
      "-- check_kpoints(): Kpoint   mesh is:  [3, 3, 3] \n",
      "\n",
      "-- check_kpoints(): The actual k-spacings are  [0.2  0.17 0.22] \n",
      "\n",
      "-- POSCAR was written to /home/ivarlamova/Rec10_DS/LiFePO4/neb//LiFePO4.n3H113v2.ion_relax/2.POSCAR \n",
      "\n",
      "-- Attention! ngkpt =  [3, 3, 3]  is adopted from struct_des which you provided for it  LiFePO4.n3H113v2  and kspacing =  0.235 \n",
      "\n",
      "\n",
      "Calculation ('LiFePO4.n3H113v2', 'ion_relax', 2) successfully created\n",
      "\n",
      " \n",
      "\n",
      "-- Please be sure that vtsttools are at username@10.30.16.62 /home/ivarlamova/tools/vts/ \n",
      "\n"
     ]
    },
    {
     "data": {
      "text/plain": [
       "'LiFePO4.n3H113v2'"
      ]
     },
     "execution_count": 57,
     "metadata": {},
     "output_type": "execute_result"
    }
   ],
   "source": [
    "# header.warnings = 'enyY'\n",
    "add_neb(st = sc_tet_oct, it_new = 'LiFePO4', ise_new = 'ion_relax', it_new_folder = 'LiFePO4/neb',\n",
    "        images = 3, corenum = 15, upload_vts = 0, atom_to_move = 'H', i_void_start = 1, i_void_final = 2, run = 0)"
   ]
  },
  {
   "cell_type": "code",
   "execution_count": null,
   "metadata": {},
   "outputs": [],
   "source": []
  },
  {
   "cell_type": "code",
   "execution_count": 59,
   "metadata": {},
   "outputs": [
    {
     "name": "stdout",
     "output_type": "stream",
     "text": [
      "-- Low + high =  [3.1e-05, 0.0004, 0.00023, 0.0004, 2.5e-05, 9.6e-05, 0.00046, 0.0011] \n",
      "\n",
      "-- [False, False, False, False, False, False, False, True] \n",
      "\n",
      "-- Attention!, SCF was not converged to desirable prec 0.039 > 0.006 meV \n",
      "\n",
      "\n",
      "\n",
      "Max. F. tot  (meV/A) = \n",
      "[4073 6657 2527 1238 2703 1285  578  664  626  512  409  330  374  310\n",
      "  309  322  302  276  283  278]; \n",
      "\n",
      "-- name                          |  energy(eV)|    Vector lenghts (A)   | Stresses (MPa)     | N MD, N SCF    \n",
      "-- db['LiFePO4.n3H113v2.ion_relax.1']| -765.1807  |10.33;12.02;9.46|-11373,-10176,-7968 |  20,15,312    \n",
      "-- Low + high =  [3.1e-05, 0.0004, 0.00023, 0.0004, 2.5e-05, 9.6e-05, 0.00046, 0.0011] \n",
      "\n",
      "-- [False, False, False, False, False, False, False, True] \n",
      "\n",
      "\n",
      "\n",
      "Max. F. tot  (meV/A) = \n",
      "[4263 6442 2252 1283 1731 1056  593  347  398  281  181  149  180  184\n",
      "  161  119   97  102  132   89]; \n",
      "\n",
      "-- db['LiFePO4.n3H113v2.ion_relax.2']| -763.3672  |10.33;12.02;9.46|-12153,-11262,-8495 |  20,11,236    \n",
      "-- Low + high =  [3.1e-05, 0.0004, 0.00023, 0.0004, 2.5e-05, 9.6e-05, 0.00046, 0.0011] \n",
      "\n",
      "-- [False, False, False, False, False, False, False, True] \n",
      "\n",
      "-- Attention!, SCF was not converged to desirable prec -0.179 > 0.006 meV \n",
      "\n",
      "\n",
      "\n",
      "Max. F. chain+tot  (meV/A) = \n",
      "[1618 2751  958  923  408  383  298  269  291  208  206  219  177  174\n",
      "  132  144  141  139  155  154]; \n",
      "\n",
      "-- db['LiFePO4.n3H113v2.ion_relax.3']| -764.7037  |10.33;12.02;9.46|-10860,-9907,-7842  |  20,13,265    \n",
      "-- Low + high =  [3.1e-05, 0.0004, 0.00023, 0.0004, 2.5e-05, 9.6e-05, 0.00046, 0.0011] \n",
      "\n",
      "-- [False, False, False, False, False, False, False, True] \n",
      "\n",
      "-- Attention!, SCF was not converged to desirable prec -0.164 > 0.006 meV \n",
      "\n",
      "\n",
      "\n",
      "Max. F. chain+tot  (meV/A) = \n",
      "[3012 5007 2252 1759  930  586  481  427  556  424  356  376  337  338\n",
      "  310  312  291  278  255  240]; \n",
      "\n",
      "-- db['LiFePO4.n3H113v2.ion_relax.4']| -763.8633  |10.33;12.02;9.46|-11165,-9452,-7810  |  20,19,396    \n",
      "-- Low + high =  [3.1e-05, 0.0004, 0.00023, 0.0004, 2.5e-05, 9.6e-05, 0.00046, 0.0011] \n",
      "\n",
      "-- [False, False, False, False, False, False, False, True] \n",
      "\n",
      "-- Attention!, SCF was not converged to desirable prec 0.011 > 0.006 meV \n",
      "\n",
      "\n",
      "\n",
      "Max. F. chain+tot  (meV/A) = \n",
      "[1644 1334  765  760  798 1004  922  601  939  235  212  331  247  133\n",
      "  114  109   79  124   70   79]; \n",
      "\n",
      "-- db['LiFePO4.n3H113v2.ion_relax.5']| -763.4886  |10.33;12.02;9.46|-11265,-10340,-8300 |  20, 9,193    \n"
     ]
    },
    {
     "data": {
      "text/plain": [
       "([\"db['LiFePO4.n3H113v2.ion_relax.5']| -763.4886  |10.33;12.02;9.46|-11265,-10340,-8300 |  20, 9,193   \"],\n",
       " [])"
      ]
     },
     "execution_count": 59,
     "metadata": {},
     "output_type": "execute_result"
    }
   ],
   "source": [
    "header.check_job = 0\n",
    "res('LiFePO4.n3H113v2', 'ion_relax', [1,2,3,4,5], show = 'fomepp', up = 'up1') # try show = 'en', 'conv', 'est'\n",
    "#res('LiFePO4122tet1', '1', 1, up = 'up1', show = 'fo')\n",
    "#res('LiFePO4122tet2', '1', 1, up = 'up1',show = 'fo')\n",
    "#res('LiFePO4122oct', '1', 1, up = 'up1',show = 'fo')"
   ]
  },
  {
   "cell_type": "code",
   "execution_count": 58,
   "metadata": {},
   "outputs": [
    {
     "name": "stdout",
     "output_type": "stream",
     "text": [
      "-- Low + high =  [3.1e-05, 0.0004, 0.00023, 0.0004, 2.5e-05, 9.6e-05, 0.00046, 0.0011] \n",
      "\n",
      "-- [False, False, False, False, False, False, False, True] \n",
      "\n",
      "-- Attention!, SCF was not converged to desirable prec 0.039 > 0.006 meV \n",
      "\n",
      "\n",
      "\n",
      "Max. F. tot  (meV/A) = \n",
      "[4073 6657 2527 1238 2703 1285  578  664  626  512  409  330  374  310\n",
      "  309  322  302  276  283  278]; \n",
      "\n",
      "-- name                          |  energy(eV)|    Vector lenghts (A)   | Stresses (MPa)     | N MD, N SCF    \n",
      "-- db['LiFePO4.n3H113v2.ion_relax.1']| -765.1807  |10.33;12.02;9.46|-11373,-10176,-7968 |  20,15,312    \n",
      "-- Low + high =  [3.1e-05, 0.0004, 0.00023, 0.0004, 2.5e-05, 9.6e-05, 0.00046, 0.0011] \n",
      "\n",
      "-- [False, False, False, False, False, False, False, True] \n",
      "\n",
      "\n",
      "\n",
      "Max. F. tot  (meV/A) = \n",
      "[4263 6442 2252 1283 1731 1056  593  347  398  281  181  149  180  184\n",
      "  161  119   97  102  132   89]; \n",
      "\n",
      "-- db['LiFePO4.n3H113v2.ion_relax.2']| -763.3672  |10.33;12.02;9.46|-12153,-11262,-8495 |  20,11,236    \n",
      "-- Low + high =  [3.1e-05, 0.0004, 0.00023, 0.0004, 2.5e-05, 9.6e-05, 0.00046, 0.0011] \n",
      "\n",
      "-- [False, False, False, False, False, False, False, True] \n",
      "\n",
      "-- Attention!, SCF was not converged to desirable prec -0.179 > 0.006 meV \n",
      "\n",
      "\n",
      "\n",
      "Max. F. chain+tot  (meV/A) = \n",
      "[1618 2751  958  923  408  383  298  269  291  208  206  219  177  174\n",
      "  132  144  141  139  155  154]; \n",
      "\n",
      "-- db['LiFePO4.n3H113v2.ion_relax.3']| -764.7037  |10.33;12.02;9.46|-10860,-9907,-7842  |  20,13,265    \n",
      "-- Low + high =  [3.1e-05, 0.0004, 0.00023, 0.0004, 2.5e-05, 9.6e-05, 0.00046, 0.0011] \n",
      "\n",
      "-- [False, False, False, False, False, False, False, True] \n",
      "\n",
      "-- Attention!, SCF was not converged to desirable prec -0.164 > 0.006 meV \n",
      "\n",
      "\n",
      "\n",
      "Max. F. chain+tot  (meV/A) = \n",
      "[3012 5007 2252 1759  930  586  481  427  556  424  356  376  337  338\n",
      "  310  312  291  278  255  240]; \n",
      "\n",
      "-- db['LiFePO4.n3H113v2.ion_relax.4']| -763.8633  |10.33;12.02;9.46|-11165,-9452,-7810  |  20,19,396    \n",
      "-- Low + high =  [3.1e-05, 0.0004, 0.00023, 0.0004, 2.5e-05, 9.6e-05, 0.00046, 0.0011] \n",
      "\n",
      "-- [False, False, False, False, False, False, False, True] \n",
      "\n",
      "-- Attention!, SCF was not converged to desirable prec 0.011 > 0.006 meV \n",
      "\n",
      "\n",
      "\n",
      "Max. F. chain+tot  (meV/A) = \n",
      "[1644 1334  765  760  798 1004  922  601  939  235  212  331  247  133\n",
      "  114  109   79  124   70   79]; \n",
      "\n",
      "-- db['LiFePO4.n3H113v2.ion_relax.5']| -763.4886  |10.33;12.02;9.46|-11265,-10340,-8300 |  20, 9,193    \n",
      "-- File xyz/LiFePO4.n3H113v2.ion_relax.1.end.xyz was written \n",
      "\n",
      "-- File xyz/LiFePO4.n3H113v2.ion_relax.3.end.xyz was written \n",
      "\n",
      "-- File xyz/LiFePO4.n3H113v2.ion_relax.4.end.xyz was written \n",
      "\n",
      "-- File xyz/LiFePO4.n3H113v2.ion_relax.5.end.xyz was written \n",
      "\n",
      "-- File xyz/LiFePO4.n3H113v2.ion_relax.2.end.xyz was written \n",
      "\n",
      "-- File xyz/LiFePO4.n3H113v2.ion_relax.1.end_traj.xyz was written \n",
      "\n",
      "-- File xyz/LiFePO4.n3H113v2.ion_relax.1.end_loc_traj.xyz was written \n",
      "\n",
      "-- File xyz/LiFePO4.n3H113v2.ion_relax.1.end_all.xyz was written \n",
      "\n",
      "-- Warning! no roots \n",
      "\n",
      "Migration barrier is 1.81\n",
      "-- plot_mep(): Diffusion barrier = 1.81  eV \n",
      "\n",
      "-- Warning! no roots \n",
      "\n",
      "Migration barrier is 1.81\n",
      "-- plot_mep(): Diffusion barrier = 1.81  eV \n",
      "\n",
      "-- Directory figs  was created \n",
      "\n",
      "-- Directory figs/png  was created \n",
      "\n",
      "-- Image saved to  figs/mep.LiFePO4.n3H113v2.ion_relax.U0_my.eps \n",
      "\n"
     ]
    },
    {
     "data": {
      "image/png": "[encoded data removed]",
      "text/plain": [
       "<Figure size 432x288 with 1 Axes>"
      ]
     },
     "metadata": {},
     "output_type": "display_data"
    },
    {
     "data": {
      "text/plain": [
       "({'sts_loc': [<siman.classes.Structure at 0x7f35d83e43c8>,\n",
       "   <siman.classes.Structure at 0x7f35d9688080>,\n",
       "   <siman.classes.Structure at 0x7f35d9465cf8>,\n",
       "   <siman.classes.Structure at 0x7f35d83d8c50>,\n",
       "   <siman.classes.Structure at 0x7f35d9408940>],\n",
       "  'sts': [<siman.classes.Structure at 0x7f35d83e4630>,\n",
       "   <siman.classes.Structure at 0x7f35d94654a8>,\n",
       "   <siman.classes.Structure at 0x7f35d83d8c88>,\n",
       "   <siman.classes.Structure at 0x7f35d9408240>,\n",
       "   <siman.classes.Structure at 0x7f35d94afcc0>],\n",
       "  'barrier': 1.8134638800000857,\n",
       "  'dEm1': 1.3173739300000307,\n",
       "  'atom_pos': [array([9.02626106, 1.502625  , 4.03483021]),\n",
       "   array([9.44039424, 1.18435908, 3.42053566]),\n",
       "   array([9.38024293, 0.75205141, 2.79061717]),\n",
       "   array([10.18332238,  0.49994661,  2.77121278]),\n",
       "   array([10.334,  0.   ,  2.366])],\n",
       "  'mep_energies': [-765.18070263,\n",
       "   -764.70372468,\n",
       "   -763.8633287,\n",
       "   -763.48856025,\n",
       "   -763.36723875]},\n",
       " [])"
      ]
     },
     "execution_count": 58,
     "metadata": {},
     "output_type": "execute_result"
    }
   ],
   "source": [
    "header.warnings = 'yY' #control warning levels: n, e, y, Y\n",
    "#header.check_job = 0\n",
    "res('LiFePO4.n3H113v2', 'ion_relax', [1,2,3,4,5], show = 'fomepp', analys_type = 'neb'  )"
   ]
  },
  {
   "cell_type": "code",
   "execution_count": null,
   "metadata": {},
   "outputs": [],
   "source": []
  }
 ],
 "metadata": {
  "kernelspec": {
   "display_name": "Python 3",
   "language": "python",
   "name": "python3"
  },
  "language_info": {
   "codemirror_mode": {
    "name": "ipython",
    "version": 3
   },
   "file_extension": ".py",
   "mimetype": "text/x-python",
   "name": "python",
   "nbconvert_exporter": "python",
   "pygments_lexer": "ipython3",
   "version": "3.6.5"
  }
 },
 "nbformat": 4,
 "nbformat_minor": 2
}
